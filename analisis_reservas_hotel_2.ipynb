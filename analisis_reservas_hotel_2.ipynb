{
 "cells": [
  {
   "cell_type": "markdown",
   "metadata": {},
   "source": [
    "# Análisis de Reservas de Hotel\n",
    "## Introducción\n",
    "Este proyecto tiene como objetivo realizar un análisis exhaustivo de un conjunto de datos de reservas de hotel. El análisis incluirá la exploración de datos (EDA), un análisis de negocio centrado en el impacto de las cancelaciones en los ingresos, y el entrenamiento y evaluación de modelos de clasificación para predecir el estado de las reservas.\n",
    "\n",
    "## Diccionario de Datos\n",
    "Los datos utilizados en este análisis provienen de Kaggle. A continuación, se detalla la fuente y una breve descripción de las columnas:\n",
    "\n",
    "\n",
    "| Columna | Descripción | Tipo de Variable |\n",
    "|---|---|---|\n",
    "| `Booking_ID` | Identificador único de la reserva. | Categórica |\n",
    "| `no_of_adults` | Número de adultos en la reserva. | Numérica Discreta |\n",
    "| `no_of_children` | Número de niños en la reserva. | Numérica Discreta |\n",
    "| `no_of_weekend_nights` | Número de noches de fin de semana reservadas. | Numérica Discreta |\n",
    "| `no_of_week_nights` | Número de noches de entre semana reservadas. | Numérica Discreta |\n",
    "| `type_of_meal_plan` | Tipo de plan de comidas (ej. Comida incluida, Solo desayuno, etc.). | Categórica |\n",
    "| `required_car_parking_space` | Indica si se requiere espacio de estacionamiento (0 = No, 1 = Sí). | Categórica Binaria |\n",
    "| `room_type_reserved` | Tipo de habitación reservada (ej. Habitación A, Habitación B, etc.). | Categórica |\n",
    "| `lead_time` | Número de días entre la fecha de reserva y la fecha de llegada. | Numérica Discreta |\n",
    "| `arrival_year` | Año de llegada. | Temporal |\n",
    "| `arrival_month` | Mes de llegada. | Temporal |\n",
    "| `arrival_date` | Día de llegada. | Temporal |\n",
    "| `market_segment_type` | Tipo de segmento de mercado (ej. Online, Offline, etc.). | Categórica |\n",
    "| `repeated_guest` | Indica si el huésped es recurrente (0 = No, 1 = Sí). | Categórica Binaria |\n",
    "| `no_of_previous_cancellations` | Número de cancelaciones previas del huésped. | Numérica Discreta |\n",
    "| `no_of_previous_bookings_not_canceled` | Número de reservas previas no canceladas por el huésped. | Numérica Discreta |\n",
    "| `avg_price_per_room` | Precio promedio por habitación por noche. | Numérica Continua |\n",
    "| `no_of_special_requests` | Número de solicitudes especiales realizadas por el huésped. | Numérica Discreta |\n",
    "| `booking_status` | Estado de la reserva (ej. Cancelado, No cancelado, etc.). | Categórica Binaria |\n",
    "\n",
    "- **Fuente de los datos**: [Hotel Reservations Classification Dataset](https://www.kaggle.com/datasets/ahsan81/hotel-reservations-classification-dataset?resource=download)"
   ]
  },
  {
   "cell_type": "markdown",
   "metadata": {},
   "source": [
    "# EDA"
   ]
  },
  {
   "cell_type": "markdown",
   "metadata": {},
   "source": [
    "## Variables numéricas"
   ]
  },
  {
   "cell_type": "code",
   "execution_count": null,
   "metadata": {},
   "outputs": [],
   "source": []
  },
  {
   "cell_type": "code",
   "execution_count": null,
   "metadata": {},
   "outputs": [],
   "source": []
  },
  {
   "cell_type": "code",
   "execution_count": null,
   "metadata": {},
   "outputs": [],
   "source": []
  },
  {
   "cell_type": "markdown",
   "metadata": {},
   "source": [
    "## Distribuciones"
   ]
  },
  {
   "cell_type": "code",
   "execution_count": null,
   "metadata": {},
   "outputs": [],
   "source": []
  },
  {
   "cell_type": "markdown",
   "metadata": {},
   "source": [
    "## Tabla de correlaciones\n"
   ]
  },
  {
   "cell_type": "markdown",
   "metadata": {},
   "source": []
  },
  {
   "cell_type": "code",
   "execution_count": null,
   "metadata": {},
   "outputs": [],
   "source": []
  },
  {
   "cell_type": "code",
   "execution_count": null,
   "metadata": {},
   "outputs": [],
   "source": []
  },
  {
   "cell_type": "markdown",
   "metadata": {},
   "source": [
    "# Análisis de Reservas de Hotel"
   ]
  },
  {
   "cell_type": "markdown",
   "metadata": {},
   "source": []
  },
  {
   "cell_type": "markdown",
   "metadata": {},
   "source": []
  }
 ],
 "metadata": {
  "kernelspec": {
   "display_name": "base",
   "language": "python",
   "name": "python3"
  },
  "language_info": {
   "codemirror_mode": {
    "name": "ipython",
    "version": 3
   },
   "file_extension": ".py",
   "mimetype": "text/x-python",
   "name": "python",
   "nbconvert_exporter": "python",
   "pygments_lexer": "ipython3",
   "version": "3.9.12"
  }
 },
 "nbformat": 4,
 "nbformat_minor": 4
}
